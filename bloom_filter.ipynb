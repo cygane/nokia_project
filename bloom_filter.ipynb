{
 "cells": [
  {
   "cell_type": "code",
   "execution_count": 32,
   "metadata": {},
   "outputs": [],
   "source": [
    "import hashlib"
   ]
  },
  {
   "cell_type": "code",
   "execution_count": 33,
   "metadata": {},
   "outputs": [],
   "source": [
    "def hash_functions(word, size):\n",
    "    hashes = []\n",
    "    for seed in range(3):\n",
    "        hash_value = int(hashlib.md5((word + str(seed)).encode()).hexdigest(), 16) % size\n",
    "        hashes.append(hash_value)\n",
    "    return hashes"
   ]
  },
  {
   "cell_type": "code",
   "execution_count": 34,
   "metadata": {},
   "outputs": [],
   "source": [
    "def create_bloom_filter_from_file(filename, folder_path=\"files/\", size=1000):\n",
    "    bloom_filter = [False] * size\n",
    "    try:\n",
    "        with open(folder_path + filename, 'r', encoding='utf-8') as file:\n",
    "            for line in file:\n",
    "                word = line.strip()\n",
    "                for hash_value in hash_functions(word, size):\n",
    "                    bloom_filter[hash_value] = True\n",
    "    except FileNotFoundError:\n",
    "        print(f\"Plik {filename} nie został znaleziony.\")\n",
    "    return bloom_filter"
   ]
  },
  {
   "cell_type": "code",
   "execution_count": 35,
   "metadata": {},
   "outputs": [],
   "source": [
    "# file_list = [\"file1.txt\", \"file2.txt\", \"file3.txt\"]\n",
    "file_list = [f\"{i}.txt\" for i in range(1, 21)]\n",
    "bloom_filters = {filename: create_bloom_filter_from_file(filename) for filename in file_list}"
   ]
  },
  {
   "cell_type": "code",
   "execution_count": 36,
   "metadata": {},
   "outputs": [],
   "source": [
    "def check_word_in_bloom(word, bloom_filter, size):\n",
    "    return all(bloom_filter[hash_value] for hash_value in hash_functions(word, size))"
   ]
  },
  {
   "cell_type": "code",
   "execution_count": 30,
   "metadata": {},
   "outputs": [],
   "source": [
    "sample_check = \"could\""
   ]
  },
  {
   "cell_type": "code",
   "execution_count": 37,
   "metadata": {},
   "outputs": [
    {
     "name": "stdout",
     "output_type": "stream",
     "text": [
      "\"could\" na pewno nie znajduje się w pliku 1.txt\n",
      "\"could\" na pewno nie znajduje się w pliku 2.txt\n",
      "\"could\" na pewno nie znajduje się w pliku 3.txt\n",
      "\"could\" na pewno nie znajduje się w pliku 4.txt\n",
      "\"could\" na pewno nie znajduje się w pliku 5.txt\n",
      "\"could\" na pewno nie znajduje się w pliku 6.txt\n",
      "\"could\" na pewno nie znajduje się w pliku 7.txt\n",
      "\"could\" na pewno nie znajduje się w pliku 8.txt\n",
      "\"could\" na pewno nie znajduje się w pliku 9.txt\n",
      "\"could\" na pewno nie znajduje się w pliku 10.txt\n",
      "\"could\" na pewno nie znajduje się w pliku 11.txt\n",
      "\"could\" na pewno nie znajduje się w pliku 12.txt\n",
      "\"could\" na pewno nie znajduje się w pliku 13.txt\n",
      "\"could\" na pewno nie znajduje się w pliku 14.txt\n",
      "\"could\" na pewno nie znajduje się w pliku 15.txt\n",
      "\"could\" na pewno nie znajduje się w pliku 16.txt\n",
      "\"could\" na pewno nie znajduje się w pliku 17.txt\n",
      "\"could\" na pewno nie znajduje się w pliku 18.txt\n",
      "\"could\" na pewno nie znajduje się w pliku 19.txt\n",
      "\"could\" na pewno nie znajduje się w pliku 20.txt\n"
     ]
    }
   ],
   "source": [
    "for filename, bloom in bloom_filters.items():\n",
    "    if check_word_in_bloom(sample_check, bloom, 1000):\n",
    "        print(f'\"{sample_check}\" prawdopodobnie znajduje się w pliku {filename}')\n",
    "    else:\n",
    "        print(f'\"{sample_check}\" na pewno nie znajduje się w pliku {filename}')\n"
   ]
  }
 ],
 "metadata": {
  "kernelspec": {
   "display_name": "Python 3",
   "language": "python",
   "name": "python3"
  },
  "language_info": {
   "codemirror_mode": {
    "name": "ipython",
    "version": 3
   },
   "file_extension": ".py",
   "mimetype": "text/x-python",
   "name": "python",
   "nbconvert_exporter": "python",
   "pygments_lexer": "ipython3",
   "version": "3.9.6"
  }
 },
 "nbformat": 4,
 "nbformat_minor": 2
}
