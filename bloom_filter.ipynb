{
 "cells": [
  {
   "cell_type": "code",
   "execution_count": 9,
   "metadata": {},
   "outputs": [],
   "source": [
    "import hashlib"
   ]
  },
  {
   "cell_type": "code",
   "execution_count": 10,
   "metadata": {},
   "outputs": [],
   "source": [
    "def hash_functions(word, size):\n",
    "    hashes = []\n",
    "    for seed in range(3):\n",
    "        hash_value = int(hashlib.md5((word + str(seed)).encode()).hexdigest(), 16) % size\n",
    "        hashes.append(hash_value)\n",
    "    return hashes"
   ]
  },
  {
   "cell_type": "code",
   "execution_count": null,
   "metadata": {},
   "outputs": [],
   "source": [
    "def create_bloom_filter_from_file(filename, folder_path=\"files/\", size=1000):\n",
    "    bloom_filter = [False] * size\n",
    "    try:\n",
    "        with open(folder_path + filename, 'r', encoding='utf-8') as file:\n",
    "            for line in file:\n",
    "                word = line.strip()\n",
    "                for hash_value in hash_functions(word, size):\n",
    "                    bloom_filter[hash_value] = True\n",
    "    except FileNotFoundError:\n",
    "        print(f\"Plik {filename} nie został znaleziony.\")\n",
    "    return bloom_filter"
   ]
  },
  {
   "cell_type": "code",
   "execution_count": 16,
   "metadata": {},
   "outputs": [],
   "source": [
    "file_list = "./files"\n",
    "bloom_filters = {filename: create_bloom_filter_from_file(filename) for filename in file_list}"
   ]
  },
  {
   "cell_type": "code",
   "execution_count": 17,
   "metadata": {},
   "outputs": [],
   "source": [
    "def check_word_in_bloom(word, bloom_filter, size):\n",
    "    return all(bloom_filter[hash_value] for hash_value in hash_functions(word, size))"
   ]
  },
  {
   "cell_type": "code",
   "execution_count": 18,
   "metadata": {},
   "outputs": [],
   "source": [
    "sample_check = \"error\""
   ]
  },
  {
   "cell_type": "code",
   "execution_count": 20,
   "metadata": {},
   "outputs": [
    {
     "name": "stdout",
     "output_type": "stream",
     "text": [
      "\"error\" prawdopodobnie znajduje się w pliku file1.txt\n",
      "\"error\" prawdopodobnie znajduje się w pliku file2.txt\n",
      "\"error\" na pewno nie znajduje się w pliku file3.txt\n"
     ]
    }
   ],
   "source": [
    "for filename, bloom in bloom_filters.items():\n",
    "    if check_word_in_bloom(sample_check, bloom, 1000):\n",
    "        print(f'\"{sample_check}\" prawdopodobnie znajduje się w pliku {filename}')\n",
    "    else:\n",
    "        print(f'\"{sample_check}\" na pewno nie znajduje się w pliku {filename}')\n"
   ]
  }
 ],
 "metadata": {
  "kernelspec": {
   "display_name": "Python 3",
   "language": "python",
   "name": "python3"
  },
  "language_info": {
   "codemirror_mode": {
    "name": "ipython",
    "version": 3
   },
   "file_extension": ".py",
   "mimetype": "text/x-python",
   "name": "python",
   "nbconvert_exporter": "python",
   "pygments_lexer": "ipython3",
   "version": "3.9.6"
  }
 },
 "nbformat": 4,
 "nbformat_minor": 2
}
